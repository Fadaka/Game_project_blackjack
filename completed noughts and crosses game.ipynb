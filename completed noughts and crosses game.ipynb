{
 "cells": [
  {
   "cell_type": "code",
   "execution_count": 1,
   "metadata": {},
   "outputs": [],
   "source": [
    "from IPython.display import clear_output\n",
    "\n",
    "\n",
    "def display(board):\n",
    "    clear_output()\n",
    "    print(board[7]+'|'+board[8]+'|'+board[9])\n",
    "    print(\"_______\")\n",
    "    print(board[4]+'|'+board[5]+'|'+board[6])\n",
    "    print(\"________\")\n",
    "    print(board[1]+'|'+board[2]+'|'+board[3])"
   ]
  },
  {
   "cell_type": "code",
   "execution_count": 2,
   "metadata": {},
   "outputs": [],
   "source": [
    "test_board=['X','X','O','X','O','O','O','X','X','O']"
   ]
  },
  {
   "cell_type": "code",
   "execution_count": 3,
   "metadata": {},
   "outputs": [
    {
     "name": "stdout",
     "output_type": "stream",
     "text": [
      "X|X|O\n",
      "_______\n",
      "O|O|O\n",
      "________\n",
      "X|O|X\n"
     ]
    }
   ],
   "source": [
    "display(test_board)"
   ]
  },
  {
   "cell_type": "code",
   "execution_count": 4,
   "metadata": {},
   "outputs": [],
   "source": [
    "def player_selection():\n",
    "    choice =' '\n",
    "    while not (choice =='x' or choice=='o'):\n",
    "        choice = input('Would you like to be player X or O?').lower()\n",
    "    if choice == 'x':\n",
    "        return ('X','O')\n",
    "    else:\n",
    "        return ('O','X')"
   ]
  },
  {
   "cell_type": "code",
   "execution_count": 7,
   "metadata": {},
   "outputs": [
    {
     "name": "stdout",
     "output_type": "stream",
     "text": [
      "Would you like to be player X or O?x\n"
     ]
    },
    {
     "data": {
      "text/plain": [
       "('X', 'O')"
      ]
     },
     "execution_count": 7,
     "metadata": {},
     "output_type": "execute_result"
    }
   ],
   "source": [
    "player_selection()"
   ]
  },
  {
   "cell_type": "code",
   "execution_count": 8,
   "metadata": {},
   "outputs": [],
   "source": [
    "import random\n",
    "\n",
    "def player_who(): \n",
    "    if random.randint(1,2)==1:\n",
    "        return 'Player 1 '\n",
    "    else:\n",
    "        return 'Player 2 '\n",
    "\n"
   ]
  },
  {
   "cell_type": "code",
   "execution_count": 9,
   "metadata": {},
   "outputs": [
    {
     "data": {
      "text/plain": [
       "'Player 1 '"
      ]
     },
     "execution_count": 9,
     "metadata": {},
     "output_type": "execute_result"
    }
   ],
   "source": [
    "player_who()"
   ]
  },
  {
   "cell_type": "code",
   "execution_count": 10,
   "metadata": {},
   "outputs": [],
   "source": [
    "def Play_move(board, marker, position):\n",
    "    board[position]= marker"
   ]
  },
  {
   "cell_type": "code",
   "execution_count": 11,
   "metadata": {},
   "outputs": [
    {
     "name": "stdout",
     "output_type": "stream",
     "text": [
      "X|X|O\n",
      "_______\n",
      "O|O|O\n",
      "________\n",
      "X|O|\n"
     ]
    }
   ],
   "source": [
    "Play_move(test_board,'',3)\n",
    "display(test_board)"
   ]
  },
  {
   "cell_type": "code",
   "execution_count": 12,
   "metadata": {},
   "outputs": [],
   "source": [
    "def wind_condition(board, mark):\n",
    "    return  ((board[1]==mark and board[2]==mark and board[3]==mark)or \n",
    "            (board[4]==mark and board[5]==mark and board[6]==mark)or \n",
    "            (board[7]==mark and board[8]==mark and board[9]==mark)or \n",
    "            (board[1]==mark and board[4]==mark and board[7]==mark)or \n",
    "            (board[2]==mark and board[5]==mark and board[8]==mark)or \n",
    "            (board[3]==mark and board[6]==mark and board[9]==mark)or \n",
    "            (board[1]==mark and board[5]==mark and board[9]==mark)or \n",
    "            (board[3]==mark and board[5]==mark and board[7]==mark))\n",
    "    \n",
    "    "
   ]
  },
  {
   "cell_type": "code",
   "execution_count": 13,
   "metadata": {},
   "outputs": [
    {
     "data": {
      "text/plain": [
       "True"
      ]
     },
     "execution_count": 13,
     "metadata": {},
     "output_type": "execute_result"
    }
   ],
   "source": [
    "wind_condition(test_board,'O')"
   ]
  },
  {
   "cell_type": "code",
   "execution_count": 14,
   "metadata": {},
   "outputs": [],
   "source": [
    "def space_check(board, position):\n",
    "    return board[position]==''"
   ]
  },
  {
   "cell_type": "code",
   "execution_count": 15,
   "metadata": {},
   "outputs": [
    {
     "data": {
      "text/plain": [
       "False"
      ]
     },
     "execution_count": 15,
     "metadata": {},
     "output_type": "execute_result"
    }
   ],
   "source": [
    "space_check(test_board, 6)\n"
   ]
  },
  {
   "cell_type": "code",
   "execution_count": 16,
   "metadata": {},
   "outputs": [],
   "source": [
    "def choose_move(board):\n",
    "    position=0\n",
    "    while position not in [1,2,3,4,5,6,7,8,9] or not space_check(board,position):\n",
    "        position =int(input('Choose a positions between 1 to 9 ?'))\n",
    "    return position"
   ]
  },
  {
   "cell_type": "code",
   "execution_count": 17,
   "metadata": {},
   "outputs": [
    {
     "name": "stdout",
     "output_type": "stream",
     "text": [
      "Choose a positions between 1 to 9 ?3\n"
     ]
    },
    {
     "data": {
      "text/plain": [
       "3"
      ]
     },
     "execution_count": 17,
     "metadata": {},
     "output_type": "execute_result"
    }
   ],
   "source": [
    "choose_move(test_board)"
   ]
  },
  {
   "cell_type": "code",
   "execution_count": 18,
   "metadata": {},
   "outputs": [],
   "source": [
    "def full_boardcheck(board):\n",
    "    for i in range(1, 10):\n",
    "        if space_check(board,i):\n",
    "            return False\n",
    "    return True"
   ]
  },
  {
   "cell_type": "code",
   "execution_count": 19,
   "metadata": {},
   "outputs": [
    {
     "data": {
      "text/plain": [
       "False"
      ]
     },
     "execution_count": 19,
     "metadata": {},
     "output_type": "execute_result"
    }
   ],
   "source": [
    "full_boardcheck(test_board)"
   ]
  },
  {
   "cell_type": "code",
   "execution_count": 20,
   "metadata": {},
   "outputs": [],
   "source": [
    "def replay():\n",
    "    \n",
    "    return input('Do you want to play again? Enter Yes or No').lower().startwith('y')"
   ]
  },
  {
   "cell_type": "markdown",
   "metadata": {},
   "source": [
    "## print('Welcome To my Tic Tac Toe Game ')\n",
    "while True:\n",
    "    theboard=['']*10 #initialize board\n",
    "    player_1,player_2 = player_selection() #assign player noughts or crosses\n",
    "    turn = player_who()#choose which player moves first\n",
    "    print(turn+ ' plays first...')\n",
    "      \n",
    "    play_game=input('Would you like to start a new game ?').lower()#would you like to start game\n",
    "    \n",
    "    if play_game.lower()[0]=='y':\n",
    "      game_on=True\n",
    "    else:\n",
    "      game_on=False\n",
    "        \n",
    "    while game_on:\n",
    "        if turn == 'Player 1 ':\n",
    "            display(theboard)\n",
    "            position = choose_move(theboard)\n",
    "            Play_move(theboard, player_1, position)\n",
    "            \n",
    "            if wind_condition(theboard,player_1):\n",
    "                display(theboard)\n",
    "                print('Congratulations {} ! You won the game!'.format(turn))\n",
    "                game_on=False\n",
    "            else:\n",
    "                if full_boardcheck(theboard):\n",
    "                    display(theboard)\n",
    "                    print('It is a draw')\n",
    "                else:\n",
    "                    turn ='Player 2 '\n",
    "                    \n",
    "        else:\n",
    "            turn = 'Player 2 '\n",
    "            display(theboard)\n",
    "            position=choose_move(theboard)\n",
    "            Play_move(theboard,player_2,position)\n",
    "                \n",
    "            if wind_condition(theboard,player_2):\n",
    "                display(theboard)\n",
    "                print('Congratulations {} ! You won the game!'.format(turn))\n",
    "            else:\n",
    "                if full_boardcheck(theboard):\n",
    "                    display(theboard)\n",
    "                    print('It is a draw')\n",
    "                    break\n",
    "                else:\n",
    "                    turn = 'Player 1 '\n",
    "                \n",
    "    if not replay:\n",
    "        break\n",
    "        \n",
    "            \n",
    "            \n",
    "            \n",
    "       \n",
    "    \n",
    "    \n",
    "      \n",
    "    \n",
    "    #if player 1\n",
    "    #show board\n",
    "    #play his turn\n",
    "    #show board \n",
    "    #check to see if he won\n",
    "    #if he won send congratulations\n",
    "    #if not check to see if board is full\n",
    "    #if board is full draw\n",
    "    #else change turn to player 2\n",
    "    \n",
    "\n"
   ]
  },
  {
   "cell_type": "code",
   "execution_count": null,
   "metadata": {},
   "outputs": [],
   "source": []
  },
  {
   "cell_type": "code",
   "execution_count": null,
   "metadata": {},
   "outputs": [],
   "source": []
  }
 ],
 "metadata": {
  "kernelspec": {
   "display_name": "Python 3",
   "language": "python",
   "name": "python3"
  },
  "language_info": {
   "codemirror_mode": {
    "name": "ipython",
    "version": 3
   },
   "file_extension": ".py",
   "mimetype": "text/x-python",
   "name": "python",
   "nbconvert_exporter": "python",
   "pygments_lexer": "ipython3",
   "version": "3.8.5"
  }
 },
 "nbformat": 4,
 "nbformat_minor": 4
}
